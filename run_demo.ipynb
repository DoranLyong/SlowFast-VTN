{
 "cells": [
  {
   "cell_type": "markdown",
   "metadata": {},
   "source": [
    "## To test the trained ViT-B-VTN on Kinetics-400 dataset "
   ]
  },
  {
   "cell_type": "code",
   "execution_count": null,
   "metadata": {},
   "outputs": [],
   "source": [
    "!python tools/run_net.py --cfg configs/Kinetics/demo/VIT_B_VTN.yaml\\\n",
    "    NUM_GPUS 1\\\n",
    "    DATA.PATH_TO_DATA_DIR path_to_kinetics_dataset"
   ]
  },
  {
   "cell_type": "code",
   "execution_count": null,
   "metadata": {},
   "outputs": [],
   "source": []
  }
 ],
 "metadata": {
  "interpreter": {
   "hash": "f25ef69962de8d406bf7c44d7414ca698ac77d050ef6259e7cc5b7c20b2a4ed0"
  },
  "kernelspec": {
   "display_name": "Python 3.7.7 ('kinetics')",
   "language": "python",
   "name": "python3"
  },
  "language_info": {
   "codemirror_mode": {
    "name": "ipython",
    "version": 3
   },
   "file_extension": ".py",
   "mimetype": "text/x-python",
   "name": "python",
   "nbconvert_exporter": "python",
   "pygments_lexer": "ipython3",
   "version": "3.8.13"
  },
  "orig_nbformat": 4
 },
 "nbformat": 4,
 "nbformat_minor": 2
}
